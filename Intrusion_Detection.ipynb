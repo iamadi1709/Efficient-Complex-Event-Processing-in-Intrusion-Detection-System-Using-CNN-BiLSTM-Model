{
  "cells": [
    {
      "cell_type": "code",
      "execution_count": null,
      "metadata": {
        "colab": {
          "base_uri": "https://localhost:8080/"
        },
        "id": "jr2wo5L5y7nE",
        "outputId": "9755d2cc-483a-426c-b951-a2c2b0445446"
      },
      "outputs": [
        {
          "name": "stdout",
          "output_type": "stream",
          "text": [
            "                                       Flow ID       Source IP   Source Port  \\\n",
            "0      192.168.10.5-104.16.207.165-54865-443-6  104.16.207.165           443   \n",
            "1        192.168.10.5-104.16.28.216-55054-80-6   104.16.28.216            80   \n",
            "2        192.168.10.5-104.16.28.216-55055-80-6   104.16.28.216            80   \n",
            "3      192.168.10.16-104.17.241.25-46236-443-6   104.17.241.25           443   \n",
            "4      192.168.10.5-104.19.196.102-54863-443-6  104.19.196.102           443   \n",
            "...                                        ...             ...           ...   \n",
            "30407      172.16.0.1-192.168.10.50-53592-80-6      172.16.0.1         53592   \n",
            "30408      172.16.0.1-192.168.10.50-53592-80-6      172.16.0.1         53592   \n",
            "30409      172.16.0.1-192.168.10.50-53593-80-6      172.16.0.1         53593   \n",
            "30410      172.16.0.1-192.168.10.50-53593-80-6      172.16.0.1         53593   \n",
            "30411      172.16.0.1-192.168.10.50-53594-80-6      172.16.0.1         53594   \n",
            "\n",
            "       Destination IP   Destination Port   Protocol      Timestamp  \\\n",
            "0        192.168.10.5              54865          6  7/7/2017 3:30   \n",
            "1        192.168.10.5              55054          6  7/7/2017 3:30   \n",
            "2        192.168.10.5              55055          6  7/7/2017 3:30   \n",
            "3       192.168.10.16              46236          6  7/7/2017 3:30   \n",
            "4        192.168.10.5              54863          6  7/7/2017 3:30   \n",
            "...               ...                ...        ...            ...   \n",
            "30407   192.168.10.50                 80          6  7/7/2017 3:57   \n",
            "30408   192.168.10.50                 80          6  7/7/2017 3:57   \n",
            "30409   192.168.10.50                 80          6  7/7/2017 3:57   \n",
            "30410   192.168.10.50                 80          6  7/7/2017 3:57   \n",
            "30411   192.168.10.50                 80          6  7/7/2017 3:57   \n",
            "\n",
            "        Flow Duration   Total Fwd Packets   Total Backward Packets  ...  \\\n",
            "0                   3                   2                        0  ...   \n",
            "1                 109                   1                        1  ...   \n",
            "2                  52                   1                        1  ...   \n",
            "3                  34                   1                        1  ...   \n",
            "4                   3                   2                        0  ...   \n",
            "...               ...                 ...                      ...  ...   \n",
            "30407          515119                   3                        4  ...   \n",
            "30408        71457380                   8                        6  ...   \n",
            "30409          515479                   3                        4  ...   \n",
            "30410        71455120                   8                        6  ...   \n",
            "30411          515673                   3                        4  ...   \n",
            "\n",
            "        min_seg_size_forward  Active Mean   Active Std   Active Max  \\\n",
            "0                       20.0          0.0          0.0          0.0   \n",
            "1                       20.0          0.0          0.0          0.0   \n",
            "2                       20.0          0.0          0.0          0.0   \n",
            "3                       20.0          0.0          0.0          0.0   \n",
            "4                       20.0          0.0          0.0          0.0   \n",
            "...                      ...          ...          ...          ...   \n",
            "30407                   20.0          0.0          0.0          0.0   \n",
            "30408                   20.0       1042.0          0.0       1042.0   \n",
            "30409                   20.0          0.0          0.0          0.0   \n",
            "30410                   20.0       1042.0          0.0       1042.0   \n",
            "30411                    NaN          NaN          NaN          NaN   \n",
            "\n",
            "        Active Min   Idle Mean    Idle Std    Idle Max   Idle Min   Label  \n",
            "0              0.0         0.0         0.0         0.0        0.0  BENIGN  \n",
            "1              0.0         0.0         0.0         0.0        0.0  BENIGN  \n",
            "2              0.0         0.0         0.0         0.0        0.0  BENIGN  \n",
            "3              0.0         0.0         0.0         0.0        0.0  BENIGN  \n",
            "4              0.0         0.0         0.0         0.0        0.0  BENIGN  \n",
            "...            ...         ...         ...         ...        ...     ...  \n",
            "30407          0.0         0.0         0.0         0.0        0.0    DDoS  \n",
            "30408       1042.0  35100000.0  38400000.0  62200000.0  7961794.0    DDoS  \n",
            "30409          0.0         0.0         0.0         0.0        0.0    DDoS  \n",
            "30410       1042.0  35100000.0  38400000.0  62200000.0  7959777.0    DDoS  \n",
            "30411          NaN         NaN         NaN         NaN        NaN     NaN  \n",
            "\n",
            "[30412 rows x 85 columns]\n"
          ]
        }
      ],
      "source": [
        "# Importing the csv file of Friday Working hours Afternoon Denial-of-service attack.\n",
        "import pandas as pd\n",
        "\n",
        "# Get the name of the CSV file you want to load.\n",
        "filename = '/content/Friday-WorkingHours-Afternoon-DDos.pcap_ISCX.csv'\n",
        "\n",
        "# Load the CSV file into a Pandas DataFrame.\n",
        "df = pd.read_csv(filename)\n",
        "\n",
        "# Print the DataFrame.\n",
        "print(df)"
      ]
    },
    {
      "cell_type": "code",
      "execution_count": null,
      "metadata": {
        "colab": {
          "background_save": true
        },
        "id": "mrZc9GAC0Zgj"
      },
      "outputs": [],
      "source": [
        "#Exploring the Data and loading the required libraries.\n",
        "# import seaborn as sns\n",
        "# import pandas as pd\n",
        "# import matplotlib.pyplot as plt\n",
        "# import numpy as np"
      ]
    },
    {
      "cell_type": "code",
      "execution_count": null,
      "metadata": {
        "colab": {
          "base_uri": "https://localhost:8080/",
          "height": 402
        },
        "id": "Y_SIZbyy067C",
        "outputId": "8dde9335-b9f7-4ced-a392-7247170afa20"
      },
      "outputs": [
        {
          "data": {
            "text/html": [
              "\n",
              "  <div id=\"df-786ef010-f428-456e-93d2-6613b201b7d4\" class=\"colab-df-container\">\n",
              "    <div>\n",
              "<style scoped>\n",
              "    .dataframe tbody tr th:only-of-type {\n",
              "        vertical-align: middle;\n",
              "    }\n",
              "\n",
              "    .dataframe tbody tr th {\n",
              "        vertical-align: top;\n",
              "    }\n",
              "\n",
              "    .dataframe thead th {\n",
              "        text-align: right;\n",
              "    }\n",
              "</style>\n",
              "<table border=\"1\" class=\"dataframe\">\n",
              "  <thead>\n",
              "    <tr style=\"text-align: right;\">\n",
              "      <th></th>\n",
              "      <th>Source Port</th>\n",
              "      <th>Destination Port</th>\n",
              "      <th>Protocol</th>\n",
              "      <th>Flow Duration</th>\n",
              "      <th>Total Fwd Packets</th>\n",
              "      <th>Total Backward Packets</th>\n",
              "      <th>Total Length of Fwd Packets</th>\n",
              "      <th>Total Length of Bwd Packets</th>\n",
              "      <th>Fwd Packet Length Max</th>\n",
              "      <th>Fwd Packet Length Min</th>\n",
              "      <th>...</th>\n",
              "      <th>act_data_pkt_fwd</th>\n",
              "      <th>min_seg_size_forward</th>\n",
              "      <th>Active Mean</th>\n",
              "      <th>Active Std</th>\n",
              "      <th>Active Max</th>\n",
              "      <th>Active Min</th>\n",
              "      <th>Idle Mean</th>\n",
              "      <th>Idle Std</th>\n",
              "      <th>Idle Max</th>\n",
              "      <th>Idle Min</th>\n",
              "    </tr>\n",
              "  </thead>\n",
              "  <tbody>\n",
              "    <tr>\n",
              "      <th>count</th>\n",
              "      <td>30412.000000</td>\n",
              "      <td>30412.000000</td>\n",
              "      <td>30412.000000</td>\n",
              "      <td>3.041200e+04</td>\n",
              "      <td>30412.000000</td>\n",
              "      <td>30412.000000</td>\n",
              "      <td>30412.000000</td>\n",
              "      <td>3.041200e+04</td>\n",
              "      <td>30412.000000</td>\n",
              "      <td>30412.000000</td>\n",
              "      <td>...</td>\n",
              "      <td>30411.000000</td>\n",
              "      <td>30411.000000</td>\n",
              "      <td>3.041100e+04</td>\n",
              "      <td>3.041100e+04</td>\n",
              "      <td>3.041100e+04</td>\n",
              "      <td>3.041100e+04</td>\n",
              "      <td>3.041100e+04</td>\n",
              "      <td>3.041100e+04</td>\n",
              "      <td>3.041100e+04</td>\n",
              "      <td>3.041100e+04</td>\n",
              "    </tr>\n",
              "    <tr>\n",
              "      <th>mean</th>\n",
              "      <td>40544.247139</td>\n",
              "      <td>4648.479975</td>\n",
              "      <td>9.517066</td>\n",
              "      <td>1.128994e+07</td>\n",
              "      <td>6.161811</td>\n",
              "      <td>6.190813</td>\n",
              "      <td>488.251776</td>\n",
              "      <td>7.791108e+03</td>\n",
              "      <td>149.159378</td>\n",
              "      <td>15.775089</td>\n",
              "      <td>...</td>\n",
              "      <td>4.051264</td>\n",
              "      <td>23.442044</td>\n",
              "      <td>1.115061e+05</td>\n",
              "      <td>3.558849e+04</td>\n",
              "      <td>1.743732e+05</td>\n",
              "      <td>9.074612e+04</td>\n",
              "      <td>5.116238e+06</td>\n",
              "      <td>1.238142e+06</td>\n",
              "      <td>5.997464e+06</td>\n",
              "      <td>4.210147e+06</td>\n",
              "    </tr>\n",
              "    <tr>\n",
              "      <th>std</th>\n",
              "      <td>21207.101650</td>\n",
              "      <td>14501.706675</td>\n",
              "      <td>5.135743</td>\n",
              "      <td>2.775244e+07</td>\n",
              "      <td>23.672346</td>\n",
              "      <td>32.986181</td>\n",
              "      <td>3493.130225</td>\n",
              "      <td>5.795690e+04</td>\n",
              "      <td>567.908076</td>\n",
              "      <td>34.910438</td>\n",
              "      <td>...</td>\n",
              "      <td>18.386562</td>\n",
              "      <td>5.795883</td>\n",
              "      <td>9.261341e+05</td>\n",
              "      <td>4.281156e+05</td>\n",
              "      <td>1.222997e+06</td>\n",
              "      <td>8.735390e+05</td>\n",
              "      <td>1.471471e+07</td>\n",
              "      <td>6.703247e+06</td>\n",
              "      <td>1.709245e+07</td>\n",
              "      <td>1.364297e+07</td>\n",
              "    </tr>\n",
              "    <tr>\n",
              "      <th>min</th>\n",
              "      <td>0.000000</td>\n",
              "      <td>0.000000</td>\n",
              "      <td>0.000000</td>\n",
              "      <td>0.000000e+00</td>\n",
              "      <td>1.000000</td>\n",
              "      <td>0.000000</td>\n",
              "      <td>0.000000</td>\n",
              "      <td>0.000000e+00</td>\n",
              "      <td>0.000000</td>\n",
              "      <td>0.000000</td>\n",
              "      <td>...</td>\n",
              "      <td>0.000000</td>\n",
              "      <td>0.000000</td>\n",
              "      <td>0.000000e+00</td>\n",
              "      <td>0.000000e+00</td>\n",
              "      <td>0.000000e+00</td>\n",
              "      <td>0.000000e+00</td>\n",
              "      <td>0.000000e+00</td>\n",
              "      <td>0.000000e+00</td>\n",
              "      <td>0.000000e+00</td>\n",
              "      <td>0.000000e+00</td>\n",
              "    </tr>\n",
              "    <tr>\n",
              "      <th>25%</th>\n",
              "      <td>15725.750000</td>\n",
              "      <td>53.000000</td>\n",
              "      <td>6.000000</td>\n",
              "      <td>7.347500e+02</td>\n",
              "      <td>2.000000</td>\n",
              "      <td>1.000000</td>\n",
              "      <td>26.000000</td>\n",
              "      <td>6.000000e+00</td>\n",
              "      <td>14.000000</td>\n",
              "      <td>0.000000</td>\n",
              "      <td>...</td>\n",
              "      <td>1.000000</td>\n",
              "      <td>20.000000</td>\n",
              "      <td>0.000000e+00</td>\n",
              "      <td>0.000000e+00</td>\n",
              "      <td>0.000000e+00</td>\n",
              "      <td>0.000000e+00</td>\n",
              "      <td>0.000000e+00</td>\n",
              "      <td>0.000000e+00</td>\n",
              "      <td>0.000000e+00</td>\n",
              "      <td>0.000000e+00</td>\n",
              "    </tr>\n",
              "    <tr>\n",
              "      <th>50%</th>\n",
              "      <td>51097.000000</td>\n",
              "      <td>80.000000</td>\n",
              "      <td>6.000000</td>\n",
              "      <td>1.427410e+05</td>\n",
              "      <td>3.000000</td>\n",
              "      <td>2.000000</td>\n",
              "      <td>49.000000</td>\n",
              "      <td>2.040000e+02</td>\n",
              "      <td>30.000000</td>\n",
              "      <td>6.000000</td>\n",
              "      <td>...</td>\n",
              "      <td>2.000000</td>\n",
              "      <td>20.000000</td>\n",
              "      <td>0.000000e+00</td>\n",
              "      <td>0.000000e+00</td>\n",
              "      <td>0.000000e+00</td>\n",
              "      <td>0.000000e+00</td>\n",
              "      <td>0.000000e+00</td>\n",
              "      <td>0.000000e+00</td>\n",
              "      <td>0.000000e+00</td>\n",
              "      <td>0.000000e+00</td>\n",
              "    </tr>\n",
              "    <tr>\n",
              "      <th>75%</th>\n",
              "      <td>55811.250000</td>\n",
              "      <td>443.000000</td>\n",
              "      <td>17.000000</td>\n",
              "      <td>3.991173e+06</td>\n",
              "      <td>4.000000</td>\n",
              "      <td>5.000000</td>\n",
              "      <td>90.000000</td>\n",
              "      <td>1.160100e+04</td>\n",
              "      <td>47.000000</td>\n",
              "      <td>33.000000</td>\n",
              "      <td>...</td>\n",
              "      <td>3.000000</td>\n",
              "      <td>32.000000</td>\n",
              "      <td>0.000000e+00</td>\n",
              "      <td>0.000000e+00</td>\n",
              "      <td>0.000000e+00</td>\n",
              "      <td>0.000000e+00</td>\n",
              "      <td>0.000000e+00</td>\n",
              "      <td>0.000000e+00</td>\n",
              "      <td>0.000000e+00</td>\n",
              "      <td>0.000000e+00</td>\n",
              "    </tr>\n",
              "    <tr>\n",
              "      <th>max</th>\n",
              "      <td>65534.000000</td>\n",
              "      <td>61528.000000</td>\n",
              "      <td>17.000000</td>\n",
              "      <td>1.199981e+08</td>\n",
              "      <td>1681.000000</td>\n",
              "      <td>2942.000000</td>\n",
              "      <td>120783.000000</td>\n",
              "      <td>4.991419e+06</td>\n",
              "      <td>11680.000000</td>\n",
              "      <td>1472.000000</td>\n",
              "      <td>...</td>\n",
              "      <td>1680.000000</td>\n",
              "      <td>44.000000</td>\n",
              "      <td>1.000000e+08</td>\n",
              "      <td>3.950000e+07</td>\n",
              "      <td>1.000000e+08</td>\n",
              "      <td>1.000000e+08</td>\n",
              "      <td>1.200000e+08</td>\n",
              "      <td>6.530000e+07</td>\n",
              "      <td>1.200000e+08</td>\n",
              "      <td>1.200000e+08</td>\n",
              "    </tr>\n",
              "  </tbody>\n",
              "</table>\n",
              "<p>8 rows × 80 columns</p>\n",
              "</div>\n",
              "    <div class=\"colab-df-buttons\">\n",
              "\n",
              "  <div class=\"colab-df-container\">\n",
              "    <button class=\"colab-df-convert\" onclick=\"convertToInteractive('df-786ef010-f428-456e-93d2-6613b201b7d4')\"\n",
              "            title=\"Convert this dataframe to an interactive table.\"\n",
              "            style=\"display:none;\">\n",
              "\n",
              "  <svg xmlns=\"http://www.w3.org/2000/svg\" height=\"24px\" viewBox=\"0 -960 960 960\">\n",
              "    <path d=\"M120-120v-720h720v720H120Zm60-500h600v-160H180v160Zm220 220h160v-160H400v160Zm0 220h160v-160H400v160ZM180-400h160v-160H180v160Zm440 0h160v-160H620v160ZM180-180h160v-160H180v160Zm440 0h160v-160H620v160Z\"/>\n",
              "  </svg>\n",
              "    </button>\n",
              "\n",
              "  <style>\n",
              "    .colab-df-container {\n",
              "      display:flex;\n",
              "      gap: 12px;\n",
              "    }\n",
              "\n",
              "    .colab-df-convert {\n",
              "      background-color: #E8F0FE;\n",
              "      border: none;\n",
              "      border-radius: 50%;\n",
              "      cursor: pointer;\n",
              "      display: none;\n",
              "      fill: #1967D2;\n",
              "      height: 32px;\n",
              "      padding: 0 0 0 0;\n",
              "      width: 32px;\n",
              "    }\n",
              "\n",
              "    .colab-df-convert:hover {\n",
              "      background-color: #E2EBFA;\n",
              "      box-shadow: 0px 1px 2px rgba(60, 64, 67, 0.3), 0px 1px 3px 1px rgba(60, 64, 67, 0.15);\n",
              "      fill: #174EA6;\n",
              "    }\n",
              "\n",
              "    .colab-df-buttons div {\n",
              "      margin-bottom: 4px;\n",
              "    }\n",
              "\n",
              "    [theme=dark] .colab-df-convert {\n",
              "      background-color: #3B4455;\n",
              "      fill: #D2E3FC;\n",
              "    }\n",
              "\n",
              "    [theme=dark] .colab-df-convert:hover {\n",
              "      background-color: #434B5C;\n",
              "      box-shadow: 0px 1px 3px 1px rgba(0, 0, 0, 0.15);\n",
              "      filter: drop-shadow(0px 1px 2px rgba(0, 0, 0, 0.3));\n",
              "      fill: #FFFFFF;\n",
              "    }\n",
              "  </style>\n",
              "\n",
              "    <script>\n",
              "      const buttonEl =\n",
              "        document.querySelector('#df-786ef010-f428-456e-93d2-6613b201b7d4 button.colab-df-convert');\n",
              "      buttonEl.style.display =\n",
              "        google.colab.kernel.accessAllowed ? 'block' : 'none';\n",
              "\n",
              "      async function convertToInteractive(key) {\n",
              "        const element = document.querySelector('#df-786ef010-f428-456e-93d2-6613b201b7d4');\n",
              "        const dataTable =\n",
              "          await google.colab.kernel.invokeFunction('convertToInteractive',\n",
              "                                                    [key], {});\n",
              "        if (!dataTable) return;\n",
              "\n",
              "        const docLinkHtml = 'Like what you see? Visit the ' +\n",
              "          '<a target=\"_blank\" href=https://colab.research.google.com/notebooks/data_table.ipynb>data table notebook</a>'\n",
              "          + ' to learn more about interactive tables.';\n",
              "        element.innerHTML = '';\n",
              "        dataTable['output_type'] = 'display_data';\n",
              "        await google.colab.output.renderOutput(dataTable, element);\n",
              "        const docLink = document.createElement('div');\n",
              "        docLink.innerHTML = docLinkHtml;\n",
              "        element.appendChild(docLink);\n",
              "      }\n",
              "    </script>\n",
              "  </div>\n",
              "\n",
              "\n",
              "<div id=\"df-29961ff2-da6c-48cf-b4d1-fb5eee3b1977\">\n",
              "  <button class=\"colab-df-quickchart\" onclick=\"quickchart('df-29961ff2-da6c-48cf-b4d1-fb5eee3b1977')\"\n",
              "            title=\"Suggest charts.\"\n",
              "            style=\"display:none;\">\n",
              "\n",
              "<svg xmlns=\"http://www.w3.org/2000/svg\" height=\"24px\"viewBox=\"0 0 24 24\"\n",
              "     width=\"24px\">\n",
              "    <g>\n",
              "        <path d=\"M19 3H5c-1.1 0-2 .9-2 2v14c0 1.1.9 2 2 2h14c1.1 0 2-.9 2-2V5c0-1.1-.9-2-2-2zM9 17H7v-7h2v7zm4 0h-2V7h2v10zm4 0h-2v-4h2v4z\"/>\n",
              "    </g>\n",
              "</svg>\n",
              "  </button>\n",
              "\n",
              "<style>\n",
              "  .colab-df-quickchart {\n",
              "    background-color: #E8F0FE;\n",
              "    border: none;\n",
              "    border-radius: 50%;\n",
              "    cursor: pointer;\n",
              "    display: none;\n",
              "    fill: #1967D2;\n",
              "    height: 32px;\n",
              "    padding: 0 0 0 0;\n",
              "    width: 32px;\n",
              "  }\n",
              "\n",
              "  .colab-df-quickchart:hover {\n",
              "    background-color: #E2EBFA;\n",
              "    box-shadow: 0px 1px 2px rgba(60, 64, 67, 0.3), 0px 1px 3px 1px rgba(60, 64, 67, 0.15);\n",
              "    fill: #174EA6;\n",
              "  }\n",
              "\n",
              "  [theme=dark] .colab-df-quickchart {\n",
              "    background-color: #3B4455;\n",
              "    fill: #D2E3FC;\n",
              "  }\n",
              "\n",
              "  [theme=dark] .colab-df-quickchart:hover {\n",
              "    background-color: #434B5C;\n",
              "    box-shadow: 0px 1px 3px 1px rgba(0, 0, 0, 0.15);\n",
              "    filter: drop-shadow(0px 1px 2px rgba(0, 0, 0, 0.3));\n",
              "    fill: #FFFFFF;\n",
              "  }\n",
              "</style>\n",
              "\n",
              "  <script>\n",
              "    async function quickchart(key) {\n",
              "      const charts = await google.colab.kernel.invokeFunction(\n",
              "          'suggestCharts', [key], {});\n",
              "    }\n",
              "    (() => {\n",
              "      let quickchartButtonEl =\n",
              "        document.querySelector('#df-29961ff2-da6c-48cf-b4d1-fb5eee3b1977 button');\n",
              "      quickchartButtonEl.style.display =\n",
              "        google.colab.kernel.accessAllowed ? 'block' : 'none';\n",
              "    })();\n",
              "  </script>\n",
              "</div>\n",
              "    </div>\n",
              "  </div>\n"
            ],
            "text/plain": [
              "        Source Port   Destination Port      Protocol   Flow Duration  \\\n",
              "count  30412.000000       30412.000000  30412.000000    3.041200e+04   \n",
              "mean   40544.247139        4648.479975      9.517066    1.128994e+07   \n",
              "std    21207.101650       14501.706675      5.135743    2.775244e+07   \n",
              "min        0.000000           0.000000      0.000000    0.000000e+00   \n",
              "25%    15725.750000          53.000000      6.000000    7.347500e+02   \n",
              "50%    51097.000000          80.000000      6.000000    1.427410e+05   \n",
              "75%    55811.250000         443.000000     17.000000    3.991173e+06   \n",
              "max    65534.000000       61528.000000     17.000000    1.199981e+08   \n",
              "\n",
              "        Total Fwd Packets   Total Backward Packets  \\\n",
              "count        30412.000000             30412.000000   \n",
              "mean             6.161811                 6.190813   \n",
              "std             23.672346                32.986181   \n",
              "min              1.000000                 0.000000   \n",
              "25%              2.000000                 1.000000   \n",
              "50%              3.000000                 2.000000   \n",
              "75%              4.000000                 5.000000   \n",
              "max           1681.000000              2942.000000   \n",
              "\n",
              "       Total Length of Fwd Packets   Total Length of Bwd Packets  \\\n",
              "count                 30412.000000                  3.041200e+04   \n",
              "mean                    488.251776                  7.791108e+03   \n",
              "std                    3493.130225                  5.795690e+04   \n",
              "min                       0.000000                  0.000000e+00   \n",
              "25%                      26.000000                  6.000000e+00   \n",
              "50%                      49.000000                  2.040000e+02   \n",
              "75%                      90.000000                  1.160100e+04   \n",
              "max                  120783.000000                  4.991419e+06   \n",
              "\n",
              "        Fwd Packet Length Max   Fwd Packet Length Min  ...   act_data_pkt_fwd  \\\n",
              "count            30412.000000            30412.000000  ...       30411.000000   \n",
              "mean               149.159378               15.775089  ...           4.051264   \n",
              "std                567.908076               34.910438  ...          18.386562   \n",
              "min                  0.000000                0.000000  ...           0.000000   \n",
              "25%                 14.000000                0.000000  ...           1.000000   \n",
              "50%                 30.000000                6.000000  ...           2.000000   \n",
              "75%                 47.000000               33.000000  ...           3.000000   \n",
              "max              11680.000000             1472.000000  ...        1680.000000   \n",
              "\n",
              "        min_seg_size_forward   Active Mean    Active Std    Active Max  \\\n",
              "count           30411.000000  3.041100e+04  3.041100e+04  3.041100e+04   \n",
              "mean               23.442044  1.115061e+05  3.558849e+04  1.743732e+05   \n",
              "std                 5.795883  9.261341e+05  4.281156e+05  1.222997e+06   \n",
              "min                 0.000000  0.000000e+00  0.000000e+00  0.000000e+00   \n",
              "25%                20.000000  0.000000e+00  0.000000e+00  0.000000e+00   \n",
              "50%                20.000000  0.000000e+00  0.000000e+00  0.000000e+00   \n",
              "75%                32.000000  0.000000e+00  0.000000e+00  0.000000e+00   \n",
              "max                44.000000  1.000000e+08  3.950000e+07  1.000000e+08   \n",
              "\n",
              "         Active Min     Idle Mean      Idle Std      Idle Max      Idle Min  \n",
              "count  3.041100e+04  3.041100e+04  3.041100e+04  3.041100e+04  3.041100e+04  \n",
              "mean   9.074612e+04  5.116238e+06  1.238142e+06  5.997464e+06  4.210147e+06  \n",
              "std    8.735390e+05  1.471471e+07  6.703247e+06  1.709245e+07  1.364297e+07  \n",
              "min    0.000000e+00  0.000000e+00  0.000000e+00  0.000000e+00  0.000000e+00  \n",
              "25%    0.000000e+00  0.000000e+00  0.000000e+00  0.000000e+00  0.000000e+00  \n",
              "50%    0.000000e+00  0.000000e+00  0.000000e+00  0.000000e+00  0.000000e+00  \n",
              "75%    0.000000e+00  0.000000e+00  0.000000e+00  0.000000e+00  0.000000e+00  \n",
              "max    1.000000e+08  1.200000e+08  6.530000e+07  1.200000e+08  1.200000e+08  \n",
              "\n",
              "[8 rows x 80 columns]"
            ]
          },
          "execution_count": 4,
          "metadata": {},
          "output_type": "execute_result"
        }
      ],
      "source": [
        "# Getting a summary of the data.\n",
        "# df.describe()"
      ]
    },
    {
      "cell_type": "code",
      "execution_count": null,
      "metadata": {
        "colab": {
          "base_uri": "https://localhost:8080/"
        },
        "id": "nKvF9_ui1Aiq",
        "outputId": "687009e3-6393-40f6-f865-861231b6af53"
      },
      "outputs": [
        {
          "data": {
            "text/plain": [
              "Flow ID              0\n",
              " Source IP           0\n",
              " Source Port         0\n",
              " Destination IP      0\n",
              " Destination Port    0\n",
              "                    ..\n",
              "Idle Mean            1\n",
              " Idle Std            1\n",
              " Idle Max            1\n",
              " Idle Min            1\n",
              " Label               1\n",
              "Length: 85, dtype: int64"
            ]
          },
          "execution_count": 11,
          "metadata": {},
          "output_type": "execute_result"
        }
      ],
      "source": [
        "# Checking for NaN values.\n",
        "# df.isnull().sum()"
      ]
    },
    {
      "cell_type": "code",
      "execution_count": null,
      "metadata": {
        "colab": {
          "background_save": true
        },
        "id": "hqqu0p3P2Q9P"
      },
      "outputs": [],
      "source": [
        "# Removing NaN values from the DataFrame.\n",
        "# df_clean = df.dropna()"
      ]
    },
    {
      "cell_type": "code",
      "source": [
        "#Importing Libraries\n",
        "import pandas as pd\n",
        "import matplotlib.pyplot as plt"
      ],
      "metadata": {
        "id": "lkPVL5d76MTl"
      },
      "execution_count": null,
      "outputs": []
    },
    {
      "cell_type": "code",
      "source": [
        "# Loading the Dataset\n",
        "path_to_csv = '/content/Friday-WorkingHours-Afternoon-PortScan.pcap_ISCX.csv'\n",
        "df = pd.read_csv(path_to_csv)"
      ],
      "metadata": {
        "id": "QX7Xrnrx6V0V"
      },
      "execution_count": null,
      "outputs": []
    },
    {
      "cell_type": "code",
      "source": [
        "# Exploring the Data, to get an initial sense of the data.\n",
        "print(df.head())"
      ],
      "metadata": {
        "colab": {
          "base_uri": "https://localhost:8080/"
        },
        "id": "bD2Uxr-l6iiR",
        "outputId": "8736ba06-bfa1-4bb3-ccbc-509d7b6dee19"
      },
      "execution_count": null,
      "outputs": [
        {
          "output_type": "stream",
          "name": "stdout",
          "text": [
            "                                  Flow ID      Source IP   Source Port  \\\n",
            "0  192.168.10.12-192.168.10.50-35396-22-6  192.168.10.12         35396   \n",
            "1  192.168.10.16-192.168.10.50-60058-22-6  192.168.10.16         60058   \n",
            "2  192.168.10.12-192.168.10.50-35396-22-6  192.168.10.12         35396   \n",
            "3  192.168.10.12-192.168.10.50-35398-22-6  192.168.10.12         35398   \n",
            "4  192.168.10.12-192.168.10.50-35396-22-6  192.168.10.50            22   \n",
            "\n",
            "   Destination IP   Destination Port   Protocol      Timestamp  \\\n",
            "0   192.168.10.50                 22          6  7/7/2017 1:00   \n",
            "1   192.168.10.50                 22          6  7/7/2017 1:00   \n",
            "2   192.168.10.50                 22          6  7/7/2017 1:00   \n",
            "3   192.168.10.50                 22          6  7/7/2017 1:00   \n",
            "4   192.168.10.12              35396          6  7/7/2017 1:00   \n",
            "\n",
            "    Flow Duration   Total Fwd Packets   Total Backward Packets  ...  \\\n",
            "0         1266342                  41                       44  ...   \n",
            "1         1319353                  41                       44  ...   \n",
            "2             160                   1                        1  ...   \n",
            "3         1303488                  41                       42  ...   \n",
            "4              77                   1                        2  ...   \n",
            "\n",
            "    min_seg_size_forward  Active Mean   Active Std   Active Max   Active Min  \\\n",
            "0                     32          0.0          0.0          0.0            0   \n",
            "1                     32          0.0          0.0          0.0            0   \n",
            "2                     32          0.0          0.0          0.0            0   \n",
            "3                     32          0.0          0.0          0.0            0   \n",
            "4                     32          0.0          0.0          0.0            0   \n",
            "\n",
            "   Idle Mean   Idle Std   Idle Max   Idle Min   Label  \n",
            "0        0.0        0.0        0.0        0.0  BENIGN  \n",
            "1        0.0        0.0        0.0        0.0  BENIGN  \n",
            "2        0.0        0.0        0.0        0.0  BENIGN  \n",
            "3        0.0        0.0        0.0        0.0  BENIGN  \n",
            "4        0.0        0.0        0.0        0.0  BENIGN  \n",
            "\n",
            "[5 rows x 85 columns]\n"
          ]
        }
      ]
    },
    {
      "cell_type": "code",
      "source": [
        "# Getting a summary of the dataset using info()\n",
        "print(df.info())"
      ],
      "metadata": {
        "colab": {
          "base_uri": "https://localhost:8080/"
        },
        "id": "yfgJ7Qmy6mLV",
        "outputId": "73cd365f-73e8-431d-c7c4-cca649677d4a"
      },
      "execution_count": null,
      "outputs": [
        {
          "output_type": "stream",
          "name": "stdout",
          "text": [
            "<class 'pandas.core.frame.DataFrame'>\n",
            "RangeIndex: 10612 entries, 0 to 10611\n",
            "Data columns (total 85 columns):\n",
            " #   Column                        Non-Null Count  Dtype  \n",
            "---  ------                        --------------  -----  \n",
            " 0   Flow ID                       10612 non-null  object \n",
            " 1    Source IP                    10611 non-null  object \n",
            " 2    Source Port                  10611 non-null  float64\n",
            " 3    Destination IP               10611 non-null  object \n",
            " 4    Destination Port             10611 non-null  float64\n",
            " 5    Protocol                     10611 non-null  float64\n",
            " 6    Timestamp                    10611 non-null  object \n",
            " 7    Flow Duration                10611 non-null  float64\n",
            " 8    Total Fwd Packets            10611 non-null  float64\n",
            " 9    Total Backward Packets       10611 non-null  float64\n",
            " 10  Total Length of Fwd Packets   10611 non-null  float64\n",
            " 11   Total Length of Bwd Packets  10611 non-null  float64\n",
            " 12   Fwd Packet Length Max        10611 non-null  float64\n",
            " 13   Fwd Packet Length Min        10611 non-null  float64\n",
            " 14   Fwd Packet Length Mean       10611 non-null  float64\n",
            " 15   Fwd Packet Length Std        10611 non-null  float64\n",
            " 16  Bwd Packet Length Max         10611 non-null  float64\n",
            " 17   Bwd Packet Length Min        10611 non-null  float64\n",
            " 18   Bwd Packet Length Mean       10611 non-null  float64\n",
            " 19   Bwd Packet Length Std        10611 non-null  float64\n",
            " 20  Flow Bytes/s                  10611 non-null  float64\n",
            " 21   Flow Packets/s               10611 non-null  float64\n",
            " 22   Flow IAT Mean                10611 non-null  float64\n",
            " 23   Flow IAT Std                 10611 non-null  float64\n",
            " 24   Flow IAT Max                 10611 non-null  float64\n",
            " 25   Flow IAT Min                 10611 non-null  float64\n",
            " 26  Fwd IAT Total                 10611 non-null  float64\n",
            " 27   Fwd IAT Mean                 10611 non-null  float64\n",
            " 28   Fwd IAT Std                  10611 non-null  float64\n",
            " 29   Fwd IAT Max                  10611 non-null  float64\n",
            " 30   Fwd IAT Min                  10611 non-null  float64\n",
            " 31  Bwd IAT Total                 10611 non-null  float64\n",
            " 32   Bwd IAT Mean                 10611 non-null  float64\n",
            " 33   Bwd IAT Std                  10611 non-null  float64\n",
            " 34   Bwd IAT Max                  10611 non-null  float64\n",
            " 35   Bwd IAT Min                  10611 non-null  float64\n",
            " 36  Fwd PSH Flags                 10611 non-null  float64\n",
            " 37   Bwd PSH Flags                10611 non-null  float64\n",
            " 38   Fwd URG Flags                10611 non-null  float64\n",
            " 39   Bwd URG Flags                10611 non-null  float64\n",
            " 40   Fwd Header Length            10611 non-null  float64\n",
            " 41   Bwd Header Length            10611 non-null  float64\n",
            " 42  Fwd Packets/s                 10611 non-null  float64\n",
            " 43   Bwd Packets/s                10611 non-null  float64\n",
            " 44   Min Packet Length            10611 non-null  float64\n",
            " 45   Max Packet Length            10611 non-null  float64\n",
            " 46   Packet Length Mean           10611 non-null  float64\n",
            " 47   Packet Length Std            10611 non-null  float64\n",
            " 48   Packet Length Variance       10611 non-null  float64\n",
            " 49  FIN Flag Count                10611 non-null  float64\n",
            " 50   SYN Flag Count               10611 non-null  float64\n",
            " 51   RST Flag Count               10611 non-null  float64\n",
            " 52   PSH Flag Count               10611 non-null  float64\n",
            " 53   ACK Flag Count               10611 non-null  float64\n",
            " 54   URG Flag Count               10611 non-null  float64\n",
            " 55   CWE Flag Count               10611 non-null  float64\n",
            " 56   ECE Flag Count               10611 non-null  float64\n",
            " 57   Down/Up Ratio                10611 non-null  float64\n",
            " 58   Average Packet Size          10611 non-null  float64\n",
            " 59   Avg Fwd Segment Size         10611 non-null  float64\n",
            " 60   Avg Bwd Segment Size         10611 non-null  float64\n",
            " 61   Fwd Header Length.1          10611 non-null  float64\n",
            " 62  Fwd Avg Bytes/Bulk            10611 non-null  float64\n",
            " 63   Fwd Avg Packets/Bulk         10611 non-null  float64\n",
            " 64   Fwd Avg Bulk Rate            10611 non-null  float64\n",
            " 65   Bwd Avg Bytes/Bulk           10611 non-null  float64\n",
            " 66   Bwd Avg Packets/Bulk         10611 non-null  float64\n",
            " 67  Bwd Avg Bulk Rate             10611 non-null  float64\n",
            " 68  Subflow Fwd Packets           10611 non-null  float64\n",
            " 69   Subflow Fwd Bytes            10611 non-null  float64\n",
            " 70   Subflow Bwd Packets          10611 non-null  float64\n",
            " 71   Subflow Bwd Bytes            10611 non-null  float64\n",
            " 72  Init_Win_bytes_forward        10611 non-null  float64\n",
            " 73   Init_Win_bytes_backward      10611 non-null  float64\n",
            " 74   act_data_pkt_fwd             10611 non-null  float64\n",
            " 75   min_seg_size_forward         10611 non-null  float64\n",
            " 76  Active Mean                   10611 non-null  float64\n",
            " 77   Active Std                   10611 non-null  float64\n",
            " 78   Active Max                   10611 non-null  float64\n",
            " 79   Active Min                   10611 non-null  float64\n",
            " 80  Idle Mean                     10611 non-null  float64\n",
            " 81   Idle Std                     10611 non-null  float64\n",
            " 82   Idle Max                     10611 non-null  float64\n",
            " 83   Idle Min                     10611 non-null  float64\n",
            " 84   Label                        10611 non-null  object \n",
            "dtypes: float64(80), object(5)\n",
            "memory usage: 6.9+ MB\n",
            "None\n"
          ]
        }
      ]
    },
    {
      "cell_type": "code",
      "source": [
        "# Getting statistical summaries of numerical features using describe()\n",
        "print(df.describe())"
      ],
      "metadata": {
        "colab": {
          "base_uri": "https://localhost:8080/"
        },
        "id": "BhN4UPSR6_sN",
        "outputId": "24df92f4-7cc9-4dfb-e3c9-8b6485d4a7d9"
      },
      "execution_count": null,
      "outputs": [
        {
          "output_type": "stream",
          "name": "stdout",
          "text": [
            "        Source Port   Destination Port      Protocol   Flow Duration  \\\n",
            "count  10611.000000       10611.000000  10611.000000    1.061100e+04   \n",
            "mean   39167.942795        6026.495052     11.424182    1.177262e+07   \n",
            "std    24345.840951       15660.509106      5.511959    3.163362e+07   \n",
            "min        0.000000           0.000000      0.000000    0.000000e+00   \n",
            "25%     6901.500000          53.000000      6.000000    1.890000e+02   \n",
            "50%    52480.000000          80.000000      6.000000    3.792800e+04   \n",
            "75%    59633.500000         443.000000     17.000000    4.077930e+05   \n",
            "max    65513.000000       64253.000000     17.000000    1.199989e+08   \n",
            "\n",
            "        Total Fwd Packets   Total Backward Packets  \\\n",
            "count        10611.000000             10611.000000   \n",
            "mean             6.904533                 6.943832   \n",
            "std             30.618217                47.150277   \n",
            "min              1.000000                 0.000000   \n",
            "25%              1.000000                 1.000000   \n",
            "50%              2.000000                 2.000000   \n",
            "75%              4.000000                 2.000000   \n",
            "max           1301.000000              2327.000000   \n",
            "\n",
            "       Total Length of Fwd Packets   Total Length of Bwd Packets  \\\n",
            "count                 10611.000000                  1.061100e+04   \n",
            "mean                    446.270663                  6.734826e+03   \n",
            "std                    1567.319317                  8.680490e+04   \n",
            "min                       0.000000                  0.000000e+00   \n",
            "25%                      40.000000                  6.000000e+00   \n",
            "50%                      66.000000                  1.340000e+02   \n",
            "75%                     156.000000                  3.440000e+02   \n",
            "max                   34076.000000                  4.877474e+06   \n",
            "\n",
            "        Fwd Packet Length Max   Fwd Packet Length Min  ...   act_data_pkt_fwd  \\\n",
            "count            10611.000000            10611.000000  ...       10611.000000   \n",
            "mean               160.351522               23.291867  ...           3.852229   \n",
            "std                405.085195               31.691032  ...          19.212906   \n",
            "min                  0.000000                0.000000  ...           0.000000   \n",
            "25%                 29.000000                0.000000  ...           0.000000   \n",
            "50%                 42.000000                6.000000  ...           1.000000   \n",
            "75%                 64.000000               42.000000  ...           3.000000   \n",
            "max               6145.000000             1472.000000  ...         867.000000   \n",
            "\n",
            "        min_seg_size_forward   Active Mean    Active Std    Active Max  \\\n",
            "count           10611.000000  1.061100e+04  1.061100e+04  1.061100e+04   \n",
            "mean               25.533503  8.114160e+04  5.282624e+04  1.871161e+05   \n",
            "std                 6.343058  4.880294e+05  3.313540e+05  9.850091e+05   \n",
            "min                 0.000000  0.000000e+00  0.000000e+00  0.000000e+00   \n",
            "25%                20.000000  0.000000e+00  0.000000e+00  0.000000e+00   \n",
            "50%                20.000000  0.000000e+00  0.000000e+00  0.000000e+00   \n",
            "75%                32.000000  0.000000e+00  0.000000e+00  0.000000e+00   \n",
            "max                44.000000  1.310000e+07  8.577005e+06  2.580000e+07   \n",
            "\n",
            "         Active Min     Idle Mean      Idle Std      Idle Max      Idle Min  \n",
            "count  1.061100e+04  1.061100e+04  1.061100e+04  1.061100e+04  1.061100e+04  \n",
            "mean   5.427245e+04  3.046787e+06  6.378002e+04  3.098537e+06  2.956654e+06  \n",
            "std    4.404543e+05  1.105497e+07  7.572104e+05  1.117578e+07  1.097046e+07  \n",
            "min    0.000000e+00  0.000000e+00  0.000000e+00  0.000000e+00  0.000000e+00  \n",
            "25%    0.000000e+00  0.000000e+00  0.000000e+00  0.000000e+00  0.000000e+00  \n",
            "50%    0.000000e+00  0.000000e+00  0.000000e+00  0.000000e+00  0.000000e+00  \n",
            "75%    0.000000e+00  0.000000e+00  0.000000e+00  0.000000e+00  0.000000e+00  \n",
            "max    1.310000e+07  1.190000e+08  3.650000e+07  1.190000e+08  1.190000e+08  \n",
            "\n",
            "[8 rows x 80 columns]\n"
          ]
        }
      ]
    },
    {
      "cell_type": "code",
      "source": [
        "# Checking the column names in the DataFrame\n",
        "print(df.columns)"
      ],
      "metadata": {
        "colab": {
          "base_uri": "https://localhost:8080/"
        },
        "id": "Heu0UEpy8U9u",
        "outputId": "0c7d8b0b-da79-492f-bfd5-2bf1ef5f418b"
      },
      "execution_count": null,
      "outputs": [
        {
          "output_type": "stream",
          "name": "stdout",
          "text": [
            "Index(['Flow ID', ' Source IP', ' Source Port', ' Destination IP',\n",
            "       ' Destination Port', ' Protocol', ' Timestamp', ' Flow Duration',\n",
            "       ' Total Fwd Packets', ' Total Backward Packets',\n",
            "       'Total Length of Fwd Packets', ' Total Length of Bwd Packets',\n",
            "       ' Fwd Packet Length Max', ' Fwd Packet Length Min',\n",
            "       ' Fwd Packet Length Mean', ' Fwd Packet Length Std',\n",
            "       'Bwd Packet Length Max', ' Bwd Packet Length Min',\n",
            "       ' Bwd Packet Length Mean', ' Bwd Packet Length Std', 'Flow Bytes/s',\n",
            "       ' Flow Packets/s', ' Flow IAT Mean', ' Flow IAT Std', ' Flow IAT Max',\n",
            "       ' Flow IAT Min', 'Fwd IAT Total', ' Fwd IAT Mean', ' Fwd IAT Std',\n",
            "       ' Fwd IAT Max', ' Fwd IAT Min', 'Bwd IAT Total', ' Bwd IAT Mean',\n",
            "       ' Bwd IAT Std', ' Bwd IAT Max', ' Bwd IAT Min', 'Fwd PSH Flags',\n",
            "       ' Bwd PSH Flags', ' Fwd URG Flags', ' Bwd URG Flags',\n",
            "       ' Fwd Header Length', ' Bwd Header Length', 'Fwd Packets/s',\n",
            "       ' Bwd Packets/s', ' Min Packet Length', ' Max Packet Length',\n",
            "       ' Packet Length Mean', ' Packet Length Std', ' Packet Length Variance',\n",
            "       'FIN Flag Count', ' SYN Flag Count', ' RST Flag Count',\n",
            "       ' PSH Flag Count', ' ACK Flag Count', ' URG Flag Count',\n",
            "       ' CWE Flag Count', ' ECE Flag Count', ' Down/Up Ratio',\n",
            "       ' Average Packet Size', ' Avg Fwd Segment Size',\n",
            "       ' Avg Bwd Segment Size', ' Fwd Header Length.1', 'Fwd Avg Bytes/Bulk',\n",
            "       ' Fwd Avg Packets/Bulk', ' Fwd Avg Bulk Rate', ' Bwd Avg Bytes/Bulk',\n",
            "       ' Bwd Avg Packets/Bulk', 'Bwd Avg Bulk Rate', 'Subflow Fwd Packets',\n",
            "       ' Subflow Fwd Bytes', ' Subflow Bwd Packets', ' Subflow Bwd Bytes',\n",
            "       'Init_Win_bytes_forward', ' Init_Win_bytes_backward',\n",
            "       ' act_data_pkt_fwd', ' min_seg_size_forward', 'Active Mean',\n",
            "       ' Active Std', ' Active Max', ' Active Min', 'Idle Mean', ' Idle Std',\n",
            "       ' Idle Max', ' Idle Min', ' Label'],\n",
            "      dtype='object')\n"
          ]
        }
      ]
    },
    {
      "cell_type": "code",
      "source": [
        "# If you want to visualize all unique values in the 'Protocol' column\n",
        "print(df[' Protocol'].unique())"
      ],
      "metadata": {
        "colab": {
          "base_uri": "https://localhost:8080/"
        },
        "id": "qDFZSctx8Xq1",
        "outputId": "22860cd7-996e-4f08-c989-87e70d1ea7b1"
      },
      "execution_count": null,
      "outputs": [
        {
          "output_type": "stream",
          "name": "stdout",
          "text": [
            "[ 6. 17.  0. nan]\n"
          ]
        }
      ]
    },
    {
      "cell_type": "code",
      "source": [
        "# Data Visualization: Visualizing the data to gain insights.\n",
        "\n",
        "# Bar plot for Protocol distribution\n",
        "df[' Protocol'].value_counts().plot(kind='bar',color='green')\n",
        "plt.xlabel(' Protocol')\n",
        "plt.ylabel('Counts')\n",
        "plt.title('Distribution of Protocols')\n",
        "plt.show()"
      ],
      "metadata": {
        "colab": {
          "base_uri": "https://localhost:8080/",
          "height": 488
        },
        "id": "g93gSf5n7IFc",
        "outputId": "c126b67a-7e7a-4b87-a352-40f0bd2133ea"
      },
      "execution_count": null,
      "outputs": [
        {
          "output_type": "display_data",
          "data": {
            "text/plain": [
              "<Figure size 640x480 with 1 Axes>"
            ],
            "image/png": "[encoded data removed]"
          },
          "metadata": {}
        }
      ]
    },
    {
      "cell_type": "code",
      "source": [
        "# Histogram for Source Port\n",
        "df[' Source Port'].plot(kind='hist', bins=20, color='pink')\n",
        "plt.xlabel('Source Port')\n",
        "plt.ylabel('Frequency')\n",
        "plt.title('Histogram of Source Ports')\n",
        "plt.show()"
      ],
      "metadata": {
        "colab": {
          "base_uri": "https://localhost:8080/",
          "height": 472
        },
        "id": "WzSiW84X9ecB",
        "outputId": "5b973457-0383-4b3c-b546-d274cafcba67"
      },
      "execution_count": null,
      "outputs": [
        {
          "output_type": "display_data",
          "data": {
            "text/plain": [
              "<Figure size 640x480 with 1 Axes>"
            ],
            "image/png": "[encoded data removed]"
          },
          "metadata": {}
        }
      ]
    },
    {
      "cell_type": "code",
      "source": [
        "# Scatter plot for Total Fwd Packets vs Total Length of Fwd Packets\n",
        "plt.scatter(df[' Total Fwd Packets'], df['Total Length of Fwd Packets'], color='red')\n",
        "plt.xlabel(' Total Fwd Packets')\n",
        "plt.ylabel(' Total Length of Fwd Packets')\n",
        "plt.title('Scatter Plot: Total Fwd Packets vs Total Length of Fwd Packets')\n",
        "plt.show()"
      ],
      "metadata": {
        "colab": {
          "base_uri": "https://localhost:8080/",
          "height": 472
        },
        "id": "Lcx0fsQK9lC7",
        "outputId": "e0207d10-acd1-4436-9a57-e5a839e853ec"
      },
      "execution_count": null,
      "outputs": [
        {
          "output_type": "display_data",
          "data": {
            "text/plain": [
              "<Figure size 640x480 with 1 Axes>"
            ],
            "image/png": "[encoded data removed]"
          },
          "metadata": {}
        }
      ]
    },
    {
      "cell_type": "code",
      "source": [
        "# Droping rows with missing values\n",
        "df_cleaned = df.dropna()\n"
      ],
      "metadata": {
        "id": "1QeI4ZydZPGZ"
      },
      "execution_count": null,
      "outputs": []
    },
    {
      "cell_type": "markdown",
      "source": [
        "Data Spiliting"
      ],
      "metadata": {
        "id": "7jC0SrX5Ztil"
      }
    },
    {
      "cell_type": "code",
      "source": [
        "#Data Spiliting into Training, Validation and Testing sets.\n",
        "\n",
        "import pandas as pd\n",
        "from sklearn.model_selection import train_test_split"
      ],
      "metadata": {
        "id": "H603z_DgYQ9a"
      },
      "execution_count": null,
      "outputs": []
    },
    {
      "cell_type": "code",
      "source": [
        "# Loading our dataset\n",
        "file_path = '/content/Friday-WorkingHours-Afternoon-PortScan.pcap_ISCX.csv'\n",
        "df = pd.read_csv(file_path)"
      ],
      "metadata": {
        "id": "9oPYrFV5Ycvo"
      },
      "execution_count": null,
      "outputs": []
    },
    {
      "cell_type": "code",
      "source": [
        "# Separating features (X) and labels (y)\n",
        "X = df_cleaned.drop(columns=[' Label'])\n",
        "y = df_cleaned[' Label']"
      ],
      "metadata": {
        "id": "AeEZpO4wYuqj"
      },
      "execution_count": null,
      "outputs": []
    },
    {
      "cell_type": "code",
      "source": [
        "# Spliting the dataset into training (70%), validation (15%), and test (15%) sets\n",
        "\n",
        "X_train, X_temp, y_train, y_temp = train_test_split(X, y, test_size=0.3, random_state=42, stratify=y)\n",
        "X_val, X_test, y_val, y_test = train_test_split(X_temp, y_temp, test_size=0.5, random_state=42, stratify=y_temp)"
      ],
      "metadata": {
        "id": "rUkULErBY5qP"
      },
      "execution_count": null,
      "outputs": []
    },
    {
      "cell_type": "code",
      "source": [
        "# Checking the distribution of classes in each set\n",
        "print(\"Training Set Distribution:\")\n",
        "print(y_train.value_counts(normalize=True))\n",
        "print(\"\\nValidation Set Distribution:\")\n",
        "print(y_val.value_counts(normalize=True))\n",
        "print(\"\\nTest Set Distribution:\")\n",
        "print(y_test.value_counts(normalize=True))"
      ],
      "metadata": {
        "colab": {
          "base_uri": "https://localhost:8080/"
        },
        "id": "VBeEePIXZili",
        "outputId": "f74ea964-03f9-4e42-97ac-1c2e63f2f7a5"
      },
      "execution_count": null,
      "outputs": [
        {
          "output_type": "stream",
          "name": "stdout",
          "text": [
            "Training Set Distribution:\n",
            "BENIGN      0.997269\n",
            "PortScan    0.002731\n",
            "Name:  Label, dtype: float64\n",
            "\n",
            "Validation Set Distribution:\n",
            "BENIGN      0.997455\n",
            "PortScan    0.002545\n",
            "Name:  Label, dtype: float64\n",
            "\n",
            "Test Set Distribution:\n",
            "BENIGN      0.997455\n",
            "PortScan    0.002545\n",
            "Name:  Label, dtype: float64\n"
          ]
        }
      ]
    },
    {
      "cell_type": "markdown",
      "source": [
        "Feature Engineering"
      ],
      "metadata": {
        "id": "qB6nShDUaELO"
      }
    },
    {
      "cell_type": "code",
      "source": [
        "import pandas as pd\n",
        "import numpy as np"
      ],
      "metadata": {
        "id": "Oshpz-loaTtS"
      },
      "execution_count": null,
      "outputs": []
    },
    {
      "cell_type": "code",
      "source": [
        "# Extracting statistical features\n",
        "# Calculating statistical features for numerical columns\n",
        "numerical_features = df.select_dtypes(include=[np.number])\n",
        "statistical_features = numerical_features.agg(['mean', 'std', 'max', 'min', 'median'])\n",
        "statistical_features.columns = [col + '_stat' for col in statistical_features.columns]"
      ],
      "metadata": {
        "id": "lxoW0o3IaInH"
      },
      "execution_count": null,
      "outputs": []
    },
    {
      "cell_type": "code",
      "source": [
        "# Printing the statistical features\n",
        "print(\"Statistical Features:\")\n",
        "print(statistical_features)"
      ],
      "metadata": {
        "colab": {
          "base_uri": "https://localhost:8080/"
        },
        "id": "h9xxEBu5aZBo",
        "outputId": "cfc951de-d8cd-41a0-837e-1a4f6c663155"
      },
      "execution_count": null,
      "outputs": [
        {
          "output_type": "stream",
          "name": "stdout",
          "text": [
            "Statistical Features:\n",
            "         Source Port_stat   Destination Port_stat   Protocol_stat  \\\n",
            "mean         43082.666604             5753.525414       11.776732   \n",
            "std          22749.715963            15636.271605        5.507517   \n",
            "max          65513.000000            64253.000000       17.000000   \n",
            "min              0.000000                0.000000        0.000000   \n",
            "median       52820.000000               53.000000       17.000000   \n",
            "\n",
            "         Flow Duration_stat   Total Fwd Packets_stat  \\\n",
            "mean           1.096496e+07                 6.815324   \n",
            "std            3.022931e+07                26.462906   \n",
            "max            1.199989e+08               651.000000   \n",
            "min            0.000000e+00                 1.000000   \n",
            "median         3.123800e+04                 2.000000   \n",
            "\n",
            "         Total Backward Packets_stat  Total Length of Fwd Packets_stat  \\\n",
            "mean                        6.791604                        449.554593   \n",
            "std                        39.245118                       1622.484612   \n",
            "max                      1216.000000                      34076.000000   \n",
            "min                         0.000000                          0.000000   \n",
            "median                      2.000000                         69.000000   \n",
            "\n",
            "         Total Length of Bwd Packets_stat   Fwd Packet Length Max_stat  \\\n",
            "mean                         6.356891e+03                   150.993035   \n",
            "std                          6.456573e+04                   380.548050   \n",
            "max                          1.693208e+06                  6145.000000   \n",
            "min                          0.000000e+00                     0.000000   \n",
            "median                       1.330000e+02                    42.000000   \n",
            "\n",
            "         Fwd Packet Length Min_stat  ...   act_data_pkt_fwd_stat  \\\n",
            "mean                      24.956137  ...                4.288270   \n",
            "std                       37.861034  ...               21.298885   \n",
            "max                     1472.000000  ...              634.000000   \n",
            "min                        0.000000  ...                0.000000   \n",
            "median                    29.000000  ...                1.000000   \n",
            "\n",
            "         min_seg_size_forward_stat  Active Mean_stat   Active Std_stat  \\\n",
            "mean                     24.503107      8.456091e+04      5.547590e+04   \n",
            "std                       5.984029      5.255563e+05      3.656366e+05   \n",
            "max                      44.000000      9.826595e+06      8.577005e+06   \n",
            "min                       0.000000      0.000000e+00      0.000000e+00   \n",
            "median                   20.000000      0.000000e+00      0.000000e+00   \n",
            "\n",
            "         Active Max_stat   Active Min_stat  Idle Mean_stat   Idle Std_stat  \\\n",
            "mean        1.941887e+05      5.628270e+04    2.781967e+06    4.865458e+04   \n",
            "std         1.079640e+06      4.783726e+05    1.039082e+07    7.602627e+05   \n",
            "max         2.580000e+07      9.826595e+06    1.130000e+08    3.650000e+07   \n",
            "min         0.000000e+00      0.000000e+00    0.000000e+00    0.000000e+00   \n",
            "median      0.000000e+00      0.000000e+00    0.000000e+00    0.000000e+00   \n",
            "\n",
            "         Idle Max_stat   Idle Min_stat  \n",
            "mean      2.826112e+06    2.718820e+06  \n",
            "std       1.050613e+07    1.032271e+07  \n",
            "max       1.130000e+08    1.130000e+08  \n",
            "min       0.000000e+00    0.000000e+00  \n",
            "median    0.000000e+00    0.000000e+00  \n",
            "\n",
            "[5 rows x 80 columns]\n"
          ]
        }
      ]
    },
    {
      "cell_type": "code",
      "source": [
        "# Creating binary indicators for categorical features\n",
        "categorical_features = df[' Protocol']\n",
        "categorical_features = pd.get_dummies(categorical_features, prefix=' Protocol')"
      ],
      "metadata": {
        "id": "BsVV0J6mayA0"
      },
      "execution_count": null,
      "outputs": []
    },
    {
      "cell_type": "code",
      "source": [
        "# Combining the newly created features with the original features\n",
        "engineered_features = pd.concat([df, statistical_features, categorical_features], axis=1)"
      ],
      "metadata": {
        "id": "EWmu1R3rbLVk"
      },
      "execution_count": null,
      "outputs": []
    },
    {
      "cell_type": "code",
      "source": [
        "#Model Building-CNN-LSTM Hybrid model\n",
        "\n",
        "import numpy as np\n",
        "import pandas as pd\n",
        "from tensorflow.keras.models import Sequential, Model\n",
        "from tensorflow.keras.layers import Input, Conv2D, MaxPooling2D, LSTM, Dense, Flatten, concatenate\n",
        "from tensorflow.keras.optimizers import Adam\n",
        "from sklearn.model_selection import train_test_split\n",
        "from sklearn.preprocessing import StandardScaler\n",
        "from sklearn.metrics import accuracy_score, confusion_matrix, classification_report"
      ],
      "metadata": {
        "id": "RPMVnv2051Fn"
      },
      "execution_count": null,
      "outputs": []
    },
    {
      "cell_type": "code",
      "source": [
        "# Separating features (X) and labels (y)\n",
        "X = df_cleaned.drop(columns=[' Label'])\n",
        "y = df_cleaned[' Label']"
      ],
      "metadata": {
        "id": "XUsgRWNeDu0L"
      },
      "execution_count": null,
      "outputs": []
    },
    {
      "cell_type": "code",
      "source": [
        "# Spliting the data into training, validation, and test sets\n",
        "X_train, X_temp, y_train, y_temp = train_test_split(X, y, test_size=0.3, random_state=42, stratify=y)\n",
        "X_val, X_test, y_val, y_test = train_test_split(X_temp, y_temp, test_size=0.5, random_state=42, stratify=y_temp)"
      ],
      "metadata": {
        "id": "z-09CUt_EMec"
      },
      "execution_count": null,
      "outputs": []
    },
    {
      "cell_type": "code",
      "source": [
        "# One-hot encoding for an IP address column\n",
        "X_train = pd.get_dummies(X_train, columns=[' Source Port', ' Destination Port'])"
      ],
      "metadata": {
        "id": "yCDOT1PYEgG2"
      },
      "execution_count": null,
      "outputs": []
    },
    {
      "cell_type": "code",
      "source": [
        "# Scaling Numeric Features\n",
        "from sklearn.preprocessing import StandardScaler\n",
        "\n",
        "scaler = StandardScaler()\n",
        "X_train_numeric = X_train.select_dtypes(include=np.number)\n",
        "X_train_scaled = scaler.fit_transform(X_train_numeric)"
      ],
      "metadata": {
        "id": "wnuhLJN2ERAr"
      },
      "execution_count": null,
      "outputs": []
    },
    {
      "cell_type": "code",
      "source": [
        "# Combine Features: After scaling, we need to combine the scaled numeric features with the transformed non-numeric features as they are relevant for our intrusion detection task.\n",
        "\n",
        "X_train_final = pd.concat([pd.DataFrame(X_train_scaled), X_train_numeric], axis=1)"
      ],
      "metadata": {
        "id": "NDAJ23rGGBe1"
      },
      "execution_count": null,
      "outputs": []
    }
  ],
  "metadata": {
    "accelerator": "GPU",
    "colab": {
      "provenance": []
    },
    "kernelspec": {
      "display_name": "Python 3",
      "name": "python3"
    },
    "language_info": {
      "name": "python"
    }
  },
  "nbformat": 4,
  "nbformat_minor": 0
}